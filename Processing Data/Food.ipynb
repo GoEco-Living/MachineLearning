{
 "cells": [
  {
   "cell_type": "code",
   "execution_count": 1,
   "metadata": {},
   "outputs": [],
   "source": [
    "import pandas as pd"
   ]
  },
  {
   "cell_type": "markdown",
   "metadata": {},
   "source": [
    "# Food Carbon Footprint datasets"
   ]
  },
  {
   "cell_type": "code",
   "execution_count": 2,
   "metadata": {},
   "outputs": [],
   "source": [
    "agri = pd.read_csv('data/Agriculture_Product_CarbonFootPrint.csv')\n",
    "diary = pd.read_csv('data/Diary_CarbonFootPrint.csv')\n",
    "meat = pd.read_csv('data/Meats_CarbonFootPrint.csv')\n",
    "fish = pd.read_csv('data/fish_CarbonFootPrint.csv')\n",
    "processed_agri = pd.read_csv('data/Processed_Agri_Product_CarbonFootPrint.csv')"
   ]
  },
  {
   "cell_type": "code",
   "execution_count": 3,
   "metadata": {},
   "outputs": [],
   "source": [
    "agri.drop(columns=['Type / Greenhouse'], inplace=True)"
   ]
  },
  {
   "cell_type": "code",
   "execution_count": 4,
   "metadata": {},
   "outputs": [],
   "source": [
    "fish.drop(columns=['Type'], inplace=True)"
   ]
  },
  {
   "cell_type": "code",
   "execution_count": 5,
   "metadata": {},
   "outputs": [],
   "source": [
    "df = pd.concat([agri, diary, meat, fish, processed_agri], ignore_index=False)"
   ]
  },
  {
   "cell_type": "code",
   "execution_count": 6,
   "metadata": {},
   "outputs": [
    {
     "data": {
      "text/html": [
       "<div>\n",
       "<style scoped>\n",
       "    .dataframe tbody tr th:only-of-type {\n",
       "        vertical-align: middle;\n",
       "    }\n",
       "\n",
       "    .dataframe tbody tr th {\n",
       "        vertical-align: top;\n",
       "    }\n",
       "\n",
       "    .dataframe thead th {\n",
       "        text-align: right;\n",
       "    }\n",
       "</style>\n",
       "<table border=\"1\" class=\"dataframe\">\n",
       "  <thead>\n",
       "    <tr style=\"text-align: right;\">\n",
       "      <th></th>\n",
       "      <th>Food item</th>\n",
       "      <th>Carbon kg CO2eq/kg</th>\n",
       "      <th>Food Item</th>\n",
       "      <th>Carbon kg CO2eq/kg</th>\n",
       "    </tr>\n",
       "  </thead>\n",
       "  <tbody>\n",
       "    <tr>\n",
       "      <th>0</th>\n",
       "      <td>date</td>\n",
       "      <td>0.60</td>\n",
       "      <td>NaN</td>\n",
       "      <td>NaN</td>\n",
       "    </tr>\n",
       "    <tr>\n",
       "      <th>1</th>\n",
       "      <td>olives</td>\n",
       "      <td>0.64</td>\n",
       "      <td>NaN</td>\n",
       "      <td>NaN</td>\n",
       "    </tr>\n",
       "    <tr>\n",
       "      <th>2</th>\n",
       "      <td>raisin</td>\n",
       "      <td>0.81</td>\n",
       "      <td>NaN</td>\n",
       "      <td>NaN</td>\n",
       "    </tr>\n",
       "    <tr>\n",
       "      <th>3</th>\n",
       "      <td>barley</td>\n",
       "      <td>0.48</td>\n",
       "      <td>NaN</td>\n",
       "      <td>NaN</td>\n",
       "    </tr>\n",
       "    <tr>\n",
       "      <th>4</th>\n",
       "      <td>maize</td>\n",
       "      <td>0.48</td>\n",
       "      <td>NaN</td>\n",
       "      <td>NaN</td>\n",
       "    </tr>\n",
       "    <tr>\n",
       "      <th>...</th>\n",
       "      <td>...</td>\n",
       "      <td>...</td>\n",
       "      <td>...</td>\n",
       "      <td>...</td>\n",
       "    </tr>\n",
       "    <tr>\n",
       "      <th>95</th>\n",
       "      <td>NaN</td>\n",
       "      <td>0.87</td>\n",
       "      <td>wine red (see: box wine)</td>\n",
       "      <td>NaN</td>\n",
       "    </tr>\n",
       "    <tr>\n",
       "      <th>96</th>\n",
       "      <td>NaN</td>\n",
       "      <td>0.44</td>\n",
       "      <td>wine white (see: box wine)</td>\n",
       "      <td>NaN</td>\n",
       "    </tr>\n",
       "    <tr>\n",
       "      <th>97</th>\n",
       "      <td>NaN</td>\n",
       "      <td>0.82</td>\n",
       "      <td>yeast compressed</td>\n",
       "      <td>NaN</td>\n",
       "    </tr>\n",
       "    <tr>\n",
       "      <th>98</th>\n",
       "      <td>NaN</td>\n",
       "      <td>3.29</td>\n",
       "      <td>yeast dried</td>\n",
       "      <td>NaN</td>\n",
       "    </tr>\n",
       "    <tr>\n",
       "      <th>99</th>\n",
       "      <td>NaN</td>\n",
       "      <td>0.50</td>\n",
       "      <td>yeast liquid</td>\n",
       "      <td>NaN</td>\n",
       "    </tr>\n",
       "  </tbody>\n",
       "</table>\n",
       "<p>314 rows × 4 columns</p>\n",
       "</div>"
      ],
      "text/plain": [
       "   Food item  Carbon kg CO2eq/kg                   Food Item  \\\n",
       "0       date                0.60                         NaN   \n",
       "1     olives                0.64                         NaN   \n",
       "2     raisin                0.81                         NaN   \n",
       "3     barley                0.48                         NaN   \n",
       "4      maize                0.48                         NaN   \n",
       "..       ...                 ...                         ...   \n",
       "95       NaN                0.87    wine red (see: box wine)   \n",
       "96       NaN                0.44  wine white (see: box wine)   \n",
       "97       NaN                0.82            yeast compressed   \n",
       "98       NaN                3.29                 yeast dried   \n",
       "99       NaN                0.50                yeast liquid   \n",
       "\n",
       "    Carbon kg CO2eq/kg  \n",
       "0                  NaN  \n",
       "1                  NaN  \n",
       "2                  NaN  \n",
       "3                  NaN  \n",
       "4                  NaN  \n",
       "..                 ...  \n",
       "95                 NaN  \n",
       "96                 NaN  \n",
       "97                 NaN  \n",
       "98                 NaN  \n",
       "99                 NaN  \n",
       "\n",
       "[314 rows x 4 columns]"
      ]
     },
     "execution_count": 6,
     "metadata": {},
     "output_type": "execute_result"
    }
   ],
   "source": [
    "df"
   ]
  },
  {
   "cell_type": "markdown",
   "metadata": {},
   "source": [
    "# Carbon FootPrint Value in Different Food Items\n"
   ]
  },
  {
   "cell_type": "code",
   "execution_count": 7,
   "metadata": {},
   "outputs": [],
   "source": [
    "FoodItems = pd.read_csv('data/carbonprint.csv')"
   ]
  },
  {
   "cell_type": "code",
   "execution_count": 8,
   "metadata": {},
   "outputs": [
    {
     "data": {
      "text/plain": [
       "Index(['Unnamed: 0', 'group', 'category', 'french_name', 'name',\n",
       "       'rating_quality', 'footprint'],\n",
       "      dtype='object')"
      ]
     },
     "execution_count": 8,
     "metadata": {},
     "output_type": "execute_result"
    }
   ],
   "source": [
    "FoodItems.columns"
   ]
  },
  {
   "cell_type": "code",
   "execution_count": 9,
   "metadata": {},
   "outputs": [],
   "source": [
    "FoodItems.drop(columns=['Unnamed: 0', 'french_name', 'rating_quality' ], axis=1, inplace=True)"
   ]
  },
  {
   "cell_type": "code",
   "execution_count": 10,
   "metadata": {},
   "outputs": [
    {
     "data": {
      "text/html": [
       "<div>\n",
       "<style scoped>\n",
       "    .dataframe tbody tr th:only-of-type {\n",
       "        vertical-align: middle;\n",
       "    }\n",
       "\n",
       "    .dataframe tbody tr th {\n",
       "        vertical-align: top;\n",
       "    }\n",
       "\n",
       "    .dataframe thead th {\n",
       "        text-align: right;\n",
       "    }\n",
       "</style>\n",
       "<table border=\"1\" class=\"dataframe\">\n",
       "  <thead>\n",
       "    <tr style=\"text-align: right;\">\n",
       "      <th></th>\n",
       "      <th>group</th>\n",
       "      <th>category</th>\n",
       "      <th>name</th>\n",
       "      <th>footprint</th>\n",
       "    </tr>\n",
       "  </thead>\n",
       "  <tbody>\n",
       "    <tr>\n",
       "      <th>0</th>\n",
       "      <td>drinks</td>\n",
       "      <td>soft drinks</td>\n",
       "      <td>Almond drink not sweet, not fortified, prepacked</td>\n",
       "      <td>0.371619</td>\n",
       "    </tr>\n",
       "    <tr>\n",
       "      <th>1</th>\n",
       "      <td>drinks</td>\n",
       "      <td>soft drinks</td>\n",
       "      <td>Apple juice, pure juice</td>\n",
       "      <td>0.500601</td>\n",
       "    </tr>\n",
       "    <tr>\n",
       "      <th>2</th>\n",
       "      <td>fruits, vegetables, pulses and oilseeds</td>\n",
       "      <td>fruits</td>\n",
       "      <td>Apple, Canada, pulp, raw</td>\n",
       "      <td>0.396515</td>\n",
       "    </tr>\n",
       "    <tr>\n",
       "      <th>3</th>\n",
       "      <td>fruits, vegetables, pulses and oilseeds</td>\n",
       "      <td>fruits</td>\n",
       "      <td>Apple, pulp and peel, raw</td>\n",
       "      <td>0.396515</td>\n",
       "    </tr>\n",
       "    <tr>\n",
       "      <th>4</th>\n",
       "      <td>fruits, vegetables, pulses and oilseeds</td>\n",
       "      <td>fruits</td>\n",
       "      <td>Apple, pulp, raw</td>\n",
       "      <td>0.396515</td>\n",
       "    </tr>\n",
       "    <tr>\n",
       "      <th>...</th>\n",
       "      <td>...</td>\n",
       "      <td>...</td>\n",
       "      <td>...</td>\n",
       "      <td>...</td>\n",
       "    </tr>\n",
       "    <tr>\n",
       "      <th>384</th>\n",
       "      <td>cereal products</td>\n",
       "      <td>flour and pie dough</td>\n",
       "      <td>Wheat flour, type 80</td>\n",
       "      <td>0.719117</td>\n",
       "    </tr>\n",
       "    <tr>\n",
       "      <th>385</th>\n",
       "      <td>starters and mixed dishes</td>\n",
       "      <td>mixed dishes</td>\n",
       "      <td>White bean stew, canned</td>\n",
       "      <td>0.760242</td>\n",
       "    </tr>\n",
       "    <tr>\n",
       "      <th>386</th>\n",
       "      <td>fruits, vegetables, pulses and oilseeds</td>\n",
       "      <td>vegetables</td>\n",
       "      <td>White cabbage, raw</td>\n",
       "      <td>0.660820</td>\n",
       "    </tr>\n",
       "    <tr>\n",
       "      <th>387</th>\n",
       "      <td>fruits, vegetables, pulses and oilseeds</td>\n",
       "      <td>potatoes and other tubers</td>\n",
       "      <td>Yam or Indian potato, peeled, boiled/cooked in...</td>\n",
       "      <td>0.732765</td>\n",
       "    </tr>\n",
       "    <tr>\n",
       "      <th>388</th>\n",
       "      <td>fruits, vegetables, pulses and oilseeds</td>\n",
       "      <td>potatoes and other tubers</td>\n",
       "      <td>Yam or Indian potato, peeled, raw</td>\n",
       "      <td>0.447285</td>\n",
       "    </tr>\n",
       "  </tbody>\n",
       "</table>\n",
       "<p>389 rows × 4 columns</p>\n",
       "</div>"
      ],
      "text/plain": [
       "                                       group                   category  \\\n",
       "0                                     drinks                soft drinks   \n",
       "1                                     drinks                soft drinks   \n",
       "2    fruits, vegetables, pulses and oilseeds                     fruits   \n",
       "3    fruits, vegetables, pulses and oilseeds                     fruits   \n",
       "4    fruits, vegetables, pulses and oilseeds                     fruits   \n",
       "..                                       ...                        ...   \n",
       "384                          cereal products        flour and pie dough   \n",
       "385                starters and mixed dishes               mixed dishes   \n",
       "386  fruits, vegetables, pulses and oilseeds                 vegetables   \n",
       "387  fruits, vegetables, pulses and oilseeds  potatoes and other tubers   \n",
       "388  fruits, vegetables, pulses and oilseeds  potatoes and other tubers   \n",
       "\n",
       "                                                  name  footprint  \n",
       "0     Almond drink not sweet, not fortified, prepacked   0.371619  \n",
       "1                              Apple juice, pure juice   0.500601  \n",
       "2                             Apple, Canada, pulp, raw   0.396515  \n",
       "3                            Apple, pulp and peel, raw   0.396515  \n",
       "4                                     Apple, pulp, raw   0.396515  \n",
       "..                                                 ...        ...  \n",
       "384                               Wheat flour, type 80   0.719117  \n",
       "385                            White bean stew, canned   0.760242  \n",
       "386                                 White cabbage, raw   0.660820  \n",
       "387  Yam or Indian potato, peeled, boiled/cooked in...   0.732765  \n",
       "388                  Yam or Indian potato, peeled, raw   0.447285  \n",
       "\n",
       "[389 rows x 4 columns]"
      ]
     },
     "execution_count": 10,
     "metadata": {},
     "output_type": "execute_result"
    }
   ],
   "source": [
    "FoodItems"
   ]
  },
  {
   "cell_type": "code",
   "execution_count": 13,
   "metadata": {},
   "outputs": [],
   "source": [
    "FoodItems.to_csv('datasets/Different Food Items.csv', index=False)"
   ]
  }
 ],
 "metadata": {
  "kernelspec": {
   "display_name": "Python 3",
   "language": "python",
   "name": "python3"
  },
  "language_info": {
   "codemirror_mode": {
    "name": "ipython",
    "version": 3
   },
   "file_extension": ".py",
   "mimetype": "text/x-python",
   "name": "python",
   "nbconvert_exporter": "python",
   "pygments_lexer": "ipython3",
   "version": "3.10.7"
  }
 },
 "nbformat": 4,
 "nbformat_minor": 2
}
